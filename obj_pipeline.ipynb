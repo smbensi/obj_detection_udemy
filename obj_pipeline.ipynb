{
 "cells": [
  {
   "cell_type": "code",
   "execution_count": 1,
   "metadata": {},
   "outputs": [],
   "source": [
    "import fiftyone"
   ]
  },
  {
   "cell_type": "code",
   "execution_count": 10,
   "metadata": {},
   "outputs": [
    {
     "name": "stdout",
     "output_type": "stream",
     "text": [
      "Downloading split 'train' to '/home/mat/fiftyone/open-images-v7/train' if necessary\n",
      "Downloading 'https://storage.googleapis.com/openimages/2018_04/train/train-images-boxable-with-rotation.csv' to '/home/mat/fiftyone/open-images-v7/train/metadata/image_ids.csv'\n",
      " 100% |██████|    4.8Gb/4.8Gb [4.2m elapsed, 0s remaining, 39.5Mb/s]       \n",
      "Downloading 'https://storage.googleapis.com/openimages/v5/class-descriptions-boxable.csv' to '/home/mat/fiftyone/open-images-v7/train/metadata/classes.csv'\n",
      "Downloading 'https://storage.googleapis.com/openimages/2018_04/bbox_labels_600_hierarchy.json' to '/tmp/tmphst1xfd9/metadata/hierarchy.json'\n",
      "Downloading 'https://storage.googleapis.com/openimages/v6/oidv6-train-annotations-bbox.csv' to '/home/mat/fiftyone/open-images-v7/train/labels/detections.csv'\n"
     ]
    },
    {
     "ename": "",
     "evalue": "",
     "output_type": "error",
     "traceback": [
      "\u001b[1;31mCannot execute code, session has been disposed. Please try restarting the Kernel."
     ]
    },
    {
     "ename": "",
     "evalue": "",
     "output_type": "error",
     "traceback": [
      "\u001b[1;31mThe Kernel crashed while executing code in the the current cell or a previous cell. Please review the code in the cell(s) to identify a possible cause of the failure. Click <a href='https://aka.ms/vscodeJupyterKernelCrash'>here</a> for more info. View Jupyter <a href='command:jupyter.viewOutput'>log</a> for further details."
     ]
    }
   ],
   "source": [
    "dataset = fiftyone.zoo.load_zoo_dataset(\n",
    "              \"open-images-v7\",\n",
    "              split=\"train\",\n",
    "              label_types=[\"detections\"],\n",
    "              classes=[\"Wheelchair\",\"Medical equipment\"],\n",
    "              max_samples=2000,\n",
    "          )"
   ]
  },
  {
   "cell_type": "code",
   "execution_count": 7,
   "metadata": {},
   "outputs": [
    {
     "name": "stdout",
     "output_type": "stream",
     "text": [
      "Downloading split 'test' to '/home/mat/fiftyone/open-images-v7/test' if necessary\n",
      "Downloading 'https://storage.googleapis.com/openimages/2018_04/test/test-images-with-rotation.csv' to '/home/mat/fiftyone/open-images-v7/test/metadata/image_ids.csv'\n",
      "Downloading 'https://storage.googleapis.com/openimages/v5/class-descriptions-boxable.csv' to '/home/mat/fiftyone/open-images-v7/test/metadata/classes.csv'\n",
      "Downloading 'https://storage.googleapis.com/openimages/2018_04/bbox_labels_600_hierarchy.json' to '/tmp/tmpstx5m9zo/metadata/hierarchy.json'\n",
      "Downloading 'https://storage.googleapis.com/openimages/v5/test-annotations-bbox.csv' to '/home/mat/fiftyone/open-images-v7/test/labels/detections.csv'\n",
      "Only found 223 (<1000) samples matching your requirements\n",
      "Downloading 223 images\n",
      " 100% |███████████████████| 223/223 [17.1s elapsed, 0s remaining, 9.0 files/s]       \n",
      "Dataset info written to '/home/mat/fiftyone/open-images-v7/info.json'\n",
      "Loading 'open-images-v7' split 'test'\n",
      " 100% |█████████████████| 223/223 [4.0s elapsed, 0s remaining, 73.0 samples/s]      \n",
      "Dataset 'open-images-v7-test-1000' created\n"
     ]
    }
   ],
   "source": [
    "dataset = fiftyone.zoo.load_zoo_dataset(\n",
    "              \"open-images-v7\",\n",
    "              split=\"test\",\n",
    "              label_types=[\"detections\"],\n",
    "              classes=[\"Medical equipment\"],\n",
    "              max_samples=1000,\n",
    "          )"
   ]
  }
 ],
 "metadata": {
  "kernelspec": {
   "display_name": "venv",
   "language": "python",
   "name": "python3"
  },
  "language_info": {
   "codemirror_mode": {
    "name": "ipython",
    "version": 3
   },
   "file_extension": ".py",
   "mimetype": "text/x-python",
   "name": "python",
   "nbconvert_exporter": "python",
   "pygments_lexer": "ipython3",
   "version": "3.10.12"
  },
  "orig_nbformat": 4
 },
 "nbformat": 4,
 "nbformat_minor": 2
}
